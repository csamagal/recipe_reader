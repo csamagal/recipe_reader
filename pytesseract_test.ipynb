{
 "cells": [
  {
   "cell_type": "code",
   "execution_count": 8,
   "metadata": {},
   "outputs": [],
   "source": [
    "import sys\n",
    "import os\n",
    "from PIL import Image\n",
    "import pytesseract\n",
    "from pytesseract import image_to_string\n",
    "from pytesseract import image_to_data\n"
   ]
  },
  {
   "cell_type": "code",
   "execution_count": 10,
   "metadata": {},
   "outputs": [],
   "source": [
    "PROJECT_PATH = r\"C:\\Users\\cassa\\OneDrive\\Documents\\recipe_reader\"\n",
    "#DIR_ABS = os.path.dirname(os.path.abspath(__file__))\n",
    "DIR_IMAGES = os.path.join(PROJECT_PATH, 'images_jpg')\n",
    "DIR_OUTPUT = os.path.join(PROJECT_PATH, 'output')"
   ]
  },
  {
   "cell_type": "code",
   "execution_count": 9,
   "metadata": {},
   "outputs": [],
   "source": [
    "pytesseract.pytesseract.tesseract_cmd = r\"C:\\Users\\cassa\\AppData\\Local\\Programs\\Tesseract-OCR\\tesseract.exe\" "
   ]
  },
  {
   "cell_type": "code",
   "execution_count": 11,
   "metadata": {},
   "outputs": [],
   "source": [
    "img_text = None\n",
    "try:\n",
    "\tfile_path = os.path.join(DIR_IMAGES ,\"image_2x.jpg\")\n",
    "\t\n",
    "\tif os.path.isfile(file_path):\n",
    "\t\timg_obj = Image.open(file_path)\n",
    "\t\timg_text = image_to_string(img_obj)\n",
    "\telse:\n",
    "\t\tpass\n",
    "except Exception as e:\n",
    "\tprint(str(e))"
   ]
  },
  {
   "cell_type": "code",
   "execution_count": 12,
   "metadata": {},
   "outputs": [],
   "source": [
    "# Final Result \n",
    "if img_text:\n",
    "\t# write the image texts to the ouput file\n",
    "\n",
    "\n",
    "\ttry:\n",
    "\t\t\"\"\" \n",
    "\t\tCheck if Output directory Exists, If not, Create the directory\n",
    "\t\t\"\"\"\n",
    "\t\tif not os.path.exists(DIR_OUTPUT):\n",
    "\t\t\tos.makedirs(DIR_OUTPUT)\n",
    "\n",
    "\t\t\"\"\" Write Image Text to the file \"\"\"\n",
    "\t\toutput_file = open(DIR_OUTPUT +\"/output_2x.txt\", \"w\") \n",
    "\t\toutput_file.write(img_text) \n",
    "\t\toutput_file.close() \n",
    "\n",
    "\texcept Exception as e:\n",
    "\t\traise e\n",
    "\tprint(img_text)"
   ]
  },
  {
   "cell_type": "code",
   "execution_count": null,
   "metadata": {},
   "outputs": [],
   "source": []
  }
 ],
 "metadata": {
  "kernelspec": {
   "display_name": "Python 3",
   "language": "python",
   "name": "python3"
  },
  "language_info": {
   "codemirror_mode": {
    "name": "ipython",
    "version": 3
   },
   "file_extension": ".py",
   "mimetype": "text/x-python",
   "name": "python",
   "nbconvert_exporter": "python",
   "pygments_lexer": "ipython3",
   "version": "3.10.13"
  },
  "orig_nbformat": 4,
  "vscode": {
   "interpreter": {
    "hash": "9e11b0596c7835c7c131743f55e51548a9508c38c2d7368e32bc1d02a7dccf0e"
   }
  }
 },
 "nbformat": 4,
 "nbformat_minor": 2
}
